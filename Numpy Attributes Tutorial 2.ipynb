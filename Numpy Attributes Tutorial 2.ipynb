{
 "cells": [
  {
   "cell_type": "code",
   "execution_count": 1,
   "id": "d1fbbfd7-96f0-4a8e-a8a4-85263a50ad5f",
   "metadata": {},
   "outputs": [
    {
     "name": "stdout",
     "output_type": "stream",
     "text": [
      "[[1 0 2]\n",
      " [2 1 1]\n",
      " [3 0 3]]\n",
      "[[2 2 0]\n",
      " [1 0 1]\n",
      " [0 1 0]]\n"
     ]
    }
   ],
   "source": [
    "import numpy as np\n",
    "a=np.array([[1,0,2],[2,1,1],[3,0,3]])\n",
    "b=np.array([[2,2,0],[1,0,1],[0,1,0]])\n",
    "print(a)\n",
    "print(b)"
   ]
  },
  {
   "cell_type": "code",
   "execution_count": 24,
   "id": "c23bc107-2112-40d2-8aa3-ed96739be8fe",
   "metadata": {},
   "outputs": [
    {
     "name": "stdout",
     "output_type": "stream",
     "text": [
      "[[1 0 2]\n",
      " [2 1 1]\n",
      " [3 0 3]]\n",
      "[[2 2 0]\n",
      " [1 0 1]\n",
      " [0 1 0]]\n"
     ]
    },
    {
     "data": {
      "text/plain": [
       "  C_CONTIGUOUS : True\n",
       "  F_CONTIGUOUS : False\n",
       "  OWNDATA : True\n",
       "  WRITEABLE : True\n",
       "  ALIGNED : True\n",
       "  WRITEBACKIFCOPY : False"
      ]
     },
     "execution_count": 24,
     "metadata": {},
     "output_type": "execute_result"
    }
   ],
   "source": [
    "import numpy as np\n",
    "a=np.array([[1,0,2],[2,1,1],[3,0,3]])\n",
    "b=np.array([[2,2,0],[1,0,1],[0,1,0]])\n",
    "print(a)\n",
    "print(b)\n",
    "a.flags"
   ]
  },
  {
   "cell_type": "code",
   "execution_count": 44,
   "id": "8850eee1-a898-448e-aa32-59cbcf7b7210",
   "metadata": {},
   "outputs": [
    {
     "data": {
      "text/plain": [
       "(3, 3)"
      ]
     },
     "execution_count": 44,
     "metadata": {},
     "output_type": "execute_result"
    }
   ],
   "source": [
    "import numpy as np\n",
    "a=np.array([[1,0,2],[2,1,1],[3,0,3]])\n",
    "b=np.array([[2,2,0],[1,0,1],])\n",
    "b.shape\n",
    "a.shape"
   ]
  },
  {
   "cell_type": "code",
   "execution_count": 50,
   "id": "4b4eb956-1169-4959-92aa-30594bcc0fc4",
   "metadata": {},
   "outputs": [
    {
     "data": {
      "text/plain": [
       "(12, 4)"
      ]
     },
     "execution_count": 50,
     "metadata": {},
     "output_type": "execute_result"
    }
   ],
   "source": [
    "import numpy as np\n",
    "a=np.array([[1,0,2],[2,1,1],[3,0,3]])\n",
    "a.strides"
   ]
  },
  {
   "cell_type": "code",
   "execution_count": 52,
   "id": "97cea9a8-a1ef-4947-9da0-1a4852060f48",
   "metadata": {},
   "outputs": [
    {
     "data": {
      "text/plain": [
       "2"
      ]
     },
     "execution_count": 52,
     "metadata": {},
     "output_type": "execute_result"
    }
   ],
   "source": [
    "import numpy as np\n",
    "a=np.array([[1,0,2],[2,1,1],[3,0,3]])\n",
    "a.ndim"
   ]
  },
  {
   "cell_type": "code",
   "execution_count": 54,
   "id": "5fe3910c-399d-41a8-8473-4ec3865ea3d3",
   "metadata": {},
   "outputs": [
    {
     "data": {
      "text/plain": [
       "<memory at 0x000001DA2E2F92F0>"
      ]
     },
     "execution_count": 54,
     "metadata": {},
     "output_type": "execute_result"
    }
   ],
   "source": [
    "import numpy as np\n",
    "a=np.array([[1,0,2],[2,1,1],[3,0,3]])\n",
    "a.data"
   ]
  },
  {
   "cell_type": "code",
   "execution_count": 56,
   "id": "911743f8-2afd-4387-bdf2-55fa79db334d",
   "metadata": {},
   "outputs": [
    {
     "data": {
      "text/plain": [
       "9"
      ]
     },
     "execution_count": 56,
     "metadata": {},
     "output_type": "execute_result"
    }
   ],
   "source": [
    "import numpy as np\n",
    "a=np.array([[1,0,2],[2,1,1],[3,0,3]])\n",
    "a.size"
   ]
  },
  {
   "cell_type": "code",
   "execution_count": 58,
   "id": "5922887c-23ce-4c68-bd09-a0d7351f2d30",
   "metadata": {},
   "outputs": [
    {
     "data": {
      "text/plain": [
       "4"
      ]
     },
     "execution_count": 58,
     "metadata": {},
     "output_type": "execute_result"
    }
   ],
   "source": [
    "import numpy as np\n",
    "a=np.array([[1,0,2],[2,1,1],[3,0,3]])\n",
    "a.itemsize"
   ]
  },
  {
   "cell_type": "code",
   "execution_count": 60,
   "id": "6a5bcfd1-adad-4e57-ad7b-86d439e48d5a",
   "metadata": {},
   "outputs": [],
   "source": [
    "import numpy as np\n",
    "a=np.array([[1,0,2],[2,1,1],[3,0,3]])\n",
    "a.base"
   ]
  },
  {
   "cell_type": "code",
   "execution_count": 62,
   "id": "551f29cb-a76e-4fb5-8fc1-112dbcb806f6",
   "metadata": {},
   "outputs": [
    {
     "data": {
      "text/plain": [
       "36"
      ]
     },
     "execution_count": 62,
     "metadata": {},
     "output_type": "execute_result"
    }
   ],
   "source": [
    "import numpy as np\n",
    "a=np.array([[1,0,2],[2,1,1],[3,0,3]])\n",
    "a.nbytes"
   ]
  },
  {
   "cell_type": "code",
   "execution_count": 64,
   "id": "fb0aa6b5-2af4-4f30-8870-25e2792567ad",
   "metadata": {},
   "outputs": [
    {
     "data": {
      "text/plain": [
       "array([[1, 2, 3],\n",
       "       [0, 1, 0],\n",
       "       [2, 1, 3]])"
      ]
     },
     "execution_count": 64,
     "metadata": {},
     "output_type": "execute_result"
    }
   ],
   "source": [
    "import numpy as np\n",
    "a=np.array([[1,0,2],[2,1,1],[3,0,3]])\n",
    "a.T"
   ]
  },
  {
   "cell_type": "code",
   "execution_count": 66,
   "id": "404b18a7-baed-455f-a927-83a0bb5b3a27",
   "metadata": {},
   "outputs": [
    {
     "data": {
      "text/plain": [
       "array([[1, 0, 2],\n",
       "       [2, 1, 1],\n",
       "       [3, 0, 3]])"
      ]
     },
     "execution_count": 66,
     "metadata": {},
     "output_type": "execute_result"
    }
   ],
   "source": [
    "import numpy as np\n",
    "a=np.array([[1,0,2],[2,1,1],[3,0,3]])\n",
    "a.real"
   ]
  },
  {
   "cell_type": "code",
   "execution_count": null,
   "id": "f04c6649-1f68-4c53-925f-4b5d7a659dc2",
   "metadata": {},
   "outputs": [],
   "source": []
  },
  {
   "cell_type": "code",
   "execution_count": 69,
   "id": "31b46ec3-e028-48a5-8568-b5556a1f4b58",
   "metadata": {},
   "outputs": [
    {
     "data": {
      "text/plain": [
       "array([[0, 0, 0],\n",
       "       [0, 0, 0],\n",
       "       [0, 0, 0]])"
      ]
     },
     "execution_count": 69,
     "metadata": {},
     "output_type": "execute_result"
    }
   ],
   "source": [
    "import numpy as np\n",
    "a=np.array([[1,0,2],[2,1,1],[3,0,3]])\n",
    "a.imag"
   ]
  },
  {
   "cell_type": "code",
   "execution_count": null,
   "id": "10057c9f-606a-4b02-9328-2fa8c75b3afb",
   "metadata": {},
   "outputs": [],
   "source": []
  },
  {
   "cell_type": "code",
   "execution_count": null,
   "id": "1ae3ba8e-cde5-483a-8529-9a02087b689d",
   "metadata": {},
   "outputs": [],
   "source": []
  }
 ],
 "metadata": {
  "kernelspec": {
   "display_name": "Python 3 (ipykernel)",
   "language": "python",
   "name": "python3"
  },
  "language_info": {
   "codemirror_mode": {
    "name": "ipython",
    "version": 3
   },
   "file_extension": ".py",
   "mimetype": "text/x-python",
   "name": "python",
   "nbconvert_exporter": "python",
   "pygments_lexer": "ipython3",
   "version": "3.12.4"
  }
 },
 "nbformat": 4,
 "nbformat_minor": 5
}
